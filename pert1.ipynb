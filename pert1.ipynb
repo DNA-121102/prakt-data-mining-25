{
 "cells": [
  {
   "cell_type": "code",
   "execution_count": 61,
   "metadata": {},
   "outputs": [],
   "source": [
    "import warnings\n",
    "warnings.filterwarnings('ignore')"
   ]
  },
  {
   "cell_type": "markdown",
   "metadata": {},
   "source": [
    "#### Uji Normalitas"
   ]
  },
  {
   "cell_type": "markdown",
   "metadata": {},
   "source": [
    "##### Menguji Apakah Dua Kelompok Memiliki Rata-Rata yang Berbeda Secara Signifikan"
   ]
  },
  {
   "cell_type": "code",
   "execution_count": 52,
   "metadata": {},
   "outputs": [
    {
     "name": "stdout",
     "output_type": "stream",
     "text": [
      "T-Statistik: -0.859, p-value: 0.394\n",
      "Terima Hipotesis Nol\n"
     ]
    }
   ],
   "source": [
    "from statsmodels.stats.weightstats import ttest_ind\n",
    "import numpy as np\n",
    "\n",
    "group1 = np.random.normal(50,10,30)\n",
    "group2 = np.random.normal(55,10,30)\n",
    "\n",
    "t_stat, p_value, df=ttest_ind(group1, group2)\n",
    "print(f'T-Statistik: {t_stat:.3f}, p-value: {p_value:.3f}')\n",
    "if p_value>0.05:\n",
    "    print('Terima Hipotesis Nol')\n",
    "else:\n",
    "    print('Tolak Hipotesis Nol')"
   ]
  },
  {
   "cell_type": "markdown",
   "metadata": {},
   "source": [
    "##### Uji Normalitas"
   ]
  },
  {
   "cell_type": "code",
   "execution_count": 55,
   "metadata": {},
   "outputs": [
    {
     "name": "stdout",
     "output_type": "stream",
     "text": [
      "Statistic: 0.194, p-value: 0.890\n",
      "Tidak cukup bukti untuk menolak H0: Data berdistribusi normal.\n"
     ]
    }
   ],
   "source": [
    "from statsmodels.stats.diagnostic import normal_ad\n",
    "\n",
    "data=np.random.normal(0,1,100)\n",
    "\n",
    "stat,p_value=normal_ad(data)\n",
    "print(f'Statistic: {stat:.3f}, p-value: {p_value:.3f}')\n",
    "\n",
    "alpha = 0.05\n",
    "if p_value > alpha:\n",
    "    print(\"Tidak cukup bukti untuk menolak H0: Data berdistribusi normal.\")\n",
    "else:\n",
    "    print(\"Tolak H0: Data tidak berdistribusi normal.\")"
   ]
  },
  {
   "cell_type": "code",
   "execution_count": 54,
   "metadata": {},
   "outputs": [
    {
     "name": "stdout",
     "output_type": "stream",
     "text": [
      "Statistic: 0.048, p-value: 0.969\n",
      "Tidak cukup bukti untuk menolak H0: Data berdistribusi normal.\n"
     ]
    }
   ],
   "source": [
    "import numpy as np\n",
    "from scipy import stats\n",
    "\n",
    "data = np.random.normal(0, 1, 100)\n",
    "\n",
    "stat, p_value = stats.kstest(data, 'norm', args=(np.mean(data), np.std(data, ddof=1)))\n",
    "\n",
    "print(f'Statistic: {stat:.3f}, p-value: {p_value:.3f}')\n",
    "\n",
    "alpha = 0.05\n",
    "if p_value > alpha:\n",
    "    print(\"Tidak cukup bukti untuk menolak H0: Data berdistribusi normal.\")\n",
    "else:\n",
    "    print(\"Tolak H0: Data tidak berdistribusi normal.\")"
   ]
  },
  {
   "cell_type": "markdown",
   "metadata": {},
   "source": [
    "#### Latihan Soal"
   ]
  },
  {
   "cell_type": "markdown",
   "metadata": {},
   "source": [
    "##### Soal No. 1"
   ]
  },
  {
   "cell_type": "code",
   "execution_count": 59,
   "metadata": {},
   "outputs": [
    {
     "name": "stdout",
     "output_type": "stream",
     "text": [
      "Regresi Linear\n",
      "                            OLS Regression Results                            \n",
      "==============================================================================\n",
      "Dep. Variable:                      y   R-squared:                       0.992\n",
      "Model:                            OLS   Adj. R-squared:                  0.992\n",
      "Method:                 Least Squares   F-statistic:                     6277.\n",
      "Date:                Wed, 12 Feb 2025   Prob (F-statistic):           1.53e-52\n",
      "Time:                        19:11:20   Log-Likelihood:                -75.989\n",
      "No. Observations:                  50   AIC:                             156.0\n",
      "Df Residuals:                      48   BIC:                             159.8\n",
      "Df Model:                           1                                         \n",
      "Covariance Type:            nonrobust                                         \n",
      "==============================================================================\n",
      "                 coef    std err          t      P>|t|      [0.025      0.975]\n",
      "------------------------------------------------------------------------------\n",
      "const        -87.5599      1.838    -47.641      0.000     -91.255     -83.865\n",
      "x1             0.8765      0.011     79.227      0.000       0.854       0.899\n",
      "==============================================================================\n",
      "Omnibus:                       37.703   Durbin-Watson:                   1.353\n",
      "Prob(Omnibus):                  0.000   Jarque-Bera (JB):              153.290\n",
      "Skew:                          -1.846   Prob(JB):                     5.17e-34\n",
      "Kurtosis:                      10.742   Cond. No.                     1.91e+03\n",
      "==============================================================================\n",
      "\n",
      "Notes:\n",
      "[1] Standard Errors assume that the covariance matrix of the errors is correctly specified.\n",
      "[2] The condition number is large, 1.91e+03. This might indicate that there are\n",
      "strong multicollinearity or other numerical problems.\n"
     ]
    },
    {
     "data": {
      "image/png": "[encoded data removed]",
      "text/plain": [
       "<Figure size 800x600 with 1 Axes>"
      ]
     },
     "metadata": {},
     "output_type": "display_data"
    }
   ],
   "source": [
    "import numpy as np\n",
    "import statsmodels.api as sm\n",
    "import matplotlib.pyplot as plt\n",
    "import seaborn as sns\n",
    "\n",
    "# Data tinggi badan (X) dan berat badan (Y)\n",
    "X = np.array([172, 181, 178, 160, 185, 176, 182, 169, 180, 175, 177, 183, 174, 168, 179, 184, 186, 170, 171,\n",
    "              173, 161, 187, 165, 162, 188, 166, 189, 163, 164, 167, 190, 159, 158, 157, 156, 155, 154, 153, 152,\n",
    "              151, 150, 149, 148, 147, 146, 145, 144, 143, 142, 141])\n",
    "\n",
    "y = np.array([58, 72, 68, 55, 75, 66, 70, 60, 71, 65, 67, 73, 64, 59, 69, 74, 76, 61, 62, 63, 54, 77 ,57, 55, 78, 58,\n",
    "              79, 56, 57, 58, 80, 53, 52, 51, 50, 49, 48, 47, 46, 45, 44, 45, 42, 41, 40, 39, 38, 37, 36, 35])\n",
    "\n",
    "X_const = sm.add_constant(X)\n",
    "model = sm.OLS(y, X_const).fit()\n",
    "\n",
    "print(\"Regresi Linear\")\n",
    "print(model.summary())\n",
    "\n",
    "y_pred = model.predict(X_const)\n",
    "\n",
    "plt.figure(figsize=(8, 6))\n",
    "sns.scatterplot(x=X, y=y, color='blue', label=\"Data Asli\")\n",
    "plt.plot(X, y_pred, color='red', linewidth=2, label=\"Garis Regresi\")\n",
    "\n",
    "plt.xlabel(\"Tinggi Badan (cm)\")\n",
    "plt.ylabel(\"Berat Badan (kg)\")\n",
    "plt.title(\"Regresi Linear: Tinggi vs Berat Badan\")\n",
    "plt.legend()\n",
    "plt.grid(True)"
   ]
  },
  {
   "cell_type": "markdown",
   "metadata": {},
   "source": [
    "##### Soal No. 2"
   ]
  },
  {
   "cell_type": "code",
   "execution_count": 64,
   "metadata": {},
   "outputs": [
    {
     "name": "stdout",
     "output_type": "stream",
     "text": [
      "Warning: Maximum number of iterations has been exceeded.\n",
      "         Current function value: 0.000000\n",
      "         Iterations: 35\n",
      "Regresi Logistik dengan Statsmodels\n",
      "                           Logit Regression Results                           \n",
      "==============================================================================\n",
      "Dep. Variable:                      y   No. Observations:                   20\n",
      "Model:                          Logit   Df Residuals:                       17\n",
      "Method:                           MLE   Df Model:                            2\n",
      "Date:                Wed, 12 Feb 2025   Pseudo R-squ.:                   1.000\n",
      "Time:                        19:18:45   Log-Likelihood:            -3.3528e-07\n",
      "converged:                      False   LL-Null:                       -12.949\n",
      "Covariance Type:            nonrobust   LLR p-value:                 2.379e-06\n",
      "==============================================================================\n",
      "                 coef    std err          z      P>|z|      [0.025      0.975]\n",
      "------------------------------------------------------------------------------\n",
      "const       -244.5559   5.56e+04     -0.004      0.996   -1.09e+05    1.09e+05\n",
      "x1            46.4975   1.21e+04      0.004      0.997   -2.36e+04    2.37e+04\n",
      "x2            10.8847   2323.107      0.005      0.996   -4542.321    4564.090\n",
      "==============================================================================\n",
      "\n",
      "Complete Separation: The results show that there iscomplete separation or perfect prediction.\n",
      "In this case the Maximum Likelihood Estimator does not exist and the parameters\n",
      "are not identified.\n"
     ]
    },
    {
     "data": {
      "image/png": "[encoded data removed]",
      "text/plain": [
       "<Figure size 800x600 with 1 Axes>"
      ]
     },
     "metadata": {},
     "output_type": "display_data"
    }
   ],
   "source": [
    "import numpy as np\n",
    "import statsmodels.api as sm\n",
    "import matplotlib.pyplot as plt\n",
    "import seaborn as sns\n",
    "\n",
    "X1 = np.array([2, 4, 6, 8, 3, 7, 5, 9, 1, 10, 3, 6, 2, 8, 4, 7, 5, 9, 1, 10])\n",
    "X2 = np.array([6, 7, 5, 6, 8, 5, 9, 4, 7, 6, 5, 8, 6, 7, 4, 5, 8, 6, 7, 5])\n",
    "y = np.array([0, 1, 1, 1, 0, 1, 1, 1, 0, 1, 0, 1, 0, 1, 0, 1, 1, 1, 0, 1])\n",
    "\n",
    "X = np.column_stack((X1, X2))\n",
    "X_const = sm.add_constant(X)\n",
    "model = sm.Logit(y, X_const).fit()\n",
    "\n",
    "print(\"Regresi Logistik dengan Statsmodels\")\n",
    "print(model.summary())\n",
    "\n",
    "plt.figure(figsize=(8, 6))\n",
    "sns.scatterplot(x=X1, y=X2, hue=y, palette={0: 'red', 1: 'blue'}, s=100)\n",
    "plt.xlabel(\"Jumlah Jam Belajar\")\n",
    "plt.ylabel(\"Jumlah Jam Tidur\")\n",
    "plt.title(\"Regresi Logistik: Data Kelulusan\")\n",
    "plt.legend(title=\"Kelulusan\", labels=[\"Tidak Lulus\", \"Lulus\"])\n",
    "plt.grid(True)\n",
    "\n",
    "plt.show()\n"
   ]
  },
  {
   "cell_type": "markdown",
   "metadata": {},
   "source": [
    "##### Soal No. 3"
   ]
  },
  {
   "cell_type": "code",
   "execution_count": 65,
   "metadata": {},
   "outputs": [
    {
     "name": "stdout",
     "output_type": "stream",
     "text": [
      "\n",
      "Uji t Dua Sampel:\n",
      "T-Statistic: -1.188, p-value: 0.240\n",
      "Tidak cukup bukti untuk menolak H0: Tidak ada perbedaan signifikan.\n"
     ]
    }
   ],
   "source": [
    "kelas_A = np.array([70, 75, 80, 85, 90, 72, 78, 82, 88, 76, 79, 81, 84, 77, 74, 86, 83, 87, 89, 71, 73, 78, 80, 82, 85, 88, 90, 76, 79, 84])\n",
    "kelas_B = np.array([74, 77, 79, 85, 83, 81, 86, 82, 89, 75, 76, 78, 80, 84, 88, 90, 92, 77, 79, 85, 87, 89, 91, 73, 75, 79, 82, 84, 86, 88])\n",
    "\n",
    "t_stat, p_value = stats.ttest_ind(kelas_A, kelas_B, equal_var=False)\n",
    "print(\"\\nUji t Dua Sampel:\")\n",
    "print(f\"T-Statistic: {t_stat:.3f}, p-value: {p_value:.3f}\")\n",
    "if p_value < 0.05:\n",
    "    print(\"Tolak H0: Terdapat perbedaan signifikan antara dua kelas.\")\n",
    "else:\n",
    "    print(\"Tidak cukup bukti untuk menolak H0: Tidak ada perbedaan signifikan.\")"
   ]
  },
  {
   "cell_type": "markdown",
   "metadata": {},
   "source": [
    "##### Soal No. 4"
   ]
  },
  {
   "cell_type": "code",
   "execution_count": 67,
   "metadata": {},
   "outputs": [
    {
     "name": "stdout",
     "output_type": "stream",
     "text": [
      "\n",
      "Model ARIMA:\n",
      "                                SARIMAX Results                                \n",
      "==============================================================================\n",
      "Dep. Variable:                      y   No. Observations:                   20\n",
      "Model:                 ARIMA(2, 1, 2)   Log Likelihood                 -54.046\n",
      "Date:                Wed, 12 Feb 2025   AIC                            118.091\n",
      "Time:                        19:25:11   BIC                            122.813\n",
      "Sample:                             0   HQIC                           118.890\n",
      "                                 - 20                                         \n",
      "Covariance Type:                  opg                                         \n",
      "==============================================================================\n",
      "                 coef    std err          z      P>|z|      [0.025      0.975]\n",
      "------------------------------------------------------------------------------\n",
      "ar.L1          0.3918      0.305      1.285      0.199      -0.206       0.989\n",
      "ar.L2          0.5797      0.297      1.953      0.051      -0.002       1.161\n",
      "ma.L1         -1.2985      0.543     -2.391      0.017      -2.363      -0.234\n",
      "ma.L2          0.6815      0.486      1.401      0.161      -0.272       1.635\n",
      "sigma2        13.6781      8.326      1.643      0.100      -2.640      29.996\n",
      "===================================================================================\n",
      "Ljung-Box (L1) (Q):                   0.35   Jarque-Bera (JB):                 0.11\n",
      "Prob(Q):                              0.56   Prob(JB):                         0.95\n",
      "Heteroskedasticity (H):               1.08   Skew:                            -0.04\n",
      "Prob(H) (two-sided):                  0.92   Kurtosis:                         2.64\n",
      "===================================================================================\n",
      "\n",
      "Warnings:\n",
      "[1] Covariance matrix calculated using the outer product of gradients (complex-step).\n"
     ]
    }
   ],
   "source": [
    "import pandas as pd\n",
    "from statsmodels.tsa.arima.model import ARIMA\n",
    "\n",
    "pelanggan = [120, 130, 125, 140, 135, 150, 145, 155, 160, 158, 162, 170, 165, 175, 180, 178, 185, 190, 195, 200]\n",
    "data_series = pd.Series(pelanggan)\n",
    "\n",
    "model_arima = ARIMA(data_series, order=(2, 1, 2))\n",
    "arima_fit = model_arima.fit()\n",
    "print(\"\\nModel ARIMA:\\n\", arima_fit.summary())"
   ]
  },
  {
   "cell_type": "markdown",
   "metadata": {},
   "source": [
    "### Numpy and Pandas"
   ]
  },
  {
   "cell_type": "markdown",
   "metadata": {},
   "source": [
    "#### Numpy"
   ]
  },
  {
   "cell_type": "markdown",
   "metadata": {},
   "source": [
    "###### NumPy merupakan sebuah library open-source Python dapat digunakan untuk melakukan komputasi numerik dan saintifik. Numpy merupakan akronim dari Numerical Python, dan mendukung berbagai macam operasi komputasi matematis, seperti aljabar linear, geometri, dan sebagainya."
   ]
  },
  {
   "cell_type": "markdown",
   "metadata": {},
   "source": [
    "##### Membuat atau Mendefinisikan Array"
   ]
  },
  {
   "cell_type": "code",
   "execution_count": 1,
   "metadata": {},
   "outputs": [],
   "source": [
    "import numpy as np"
   ]
  },
  {
   "cell_type": "code",
   "execution_count": 2,
   "metadata": {},
   "outputs": [
    {
     "data": {
      "text/plain": [
       "array([[1, 2],\n",
       "       [3, 4]])"
      ]
     },
     "execution_count": 2,
     "metadata": {},
     "output_type": "execute_result"
    }
   ],
   "source": [
    "arr1=np.array([[1,2],[3,4]])\n",
    "arr1"
   ]
  },
  {
   "cell_type": "code",
   "execution_count": 3,
   "metadata": {},
   "outputs": [
    {
     "data": {
      "text/plain": [
       "array(['a', 'b', 'c'], dtype='<U1')"
      ]
     },
     "execution_count": 3,
     "metadata": {},
     "output_type": "execute_result"
    }
   ],
   "source": [
    "arr2=np.array(['a','b','c'])\n",
    "arr2"
   ]
  },
  {
   "cell_type": "code",
   "execution_count": 4,
   "metadata": {},
   "outputs": [
    {
     "data": {
      "text/plain": [
       "array([3, 4, 5, 6])"
      ]
     },
     "execution_count": 4,
     "metadata": {},
     "output_type": "execute_result"
    }
   ],
   "source": [
    "arr3=np.arange(3,7,dtype=int)\n",
    "arr3"
   ]
  },
  {
   "cell_type": "code",
   "execution_count": 5,
   "metadata": {},
   "outputs": [
    {
     "data": {
      "text/plain": [
       "array([3., 5.])"
      ]
     },
     "execution_count": 5,
     "metadata": {},
     "output_type": "execute_result"
    }
   ],
   "source": [
    "arr4=np.arange(3,7,2,dtype=float)\n",
    "arr4"
   ]
  },
  {
   "cell_type": "code",
   "execution_count": 6,
   "metadata": {},
   "outputs": [
    {
     "data": {
      "text/plain": [
       "array([0, 0, 0, 0, 0])"
      ]
     },
     "execution_count": 6,
     "metadata": {},
     "output_type": "execute_result"
    }
   ],
   "source": [
    "arr5=np.zeros(5,dtype=int)\n",
    "arr5"
   ]
  },
  {
   "cell_type": "code",
   "execution_count": 7,
   "metadata": {},
   "outputs": [
    {
     "data": {
      "text/plain": [
       "array([1, 1, 1, 1, 1])"
      ]
     },
     "execution_count": 7,
     "metadata": {},
     "output_type": "execute_result"
    }
   ],
   "source": [
    "arr6=np.ones(5,dtype=int)\n",
    "arr6"
   ]
  },
  {
   "cell_type": "markdown",
   "metadata": {},
   "source": [
    "##### Manipulasi NumPy Array"
   ]
  },
  {
   "cell_type": "code",
   "execution_count": 8,
   "metadata": {},
   "outputs": [
    {
     "data": {
      "text/plain": [
       "array([1, 2, 3, 4, 5, 6, 7, 8])"
      ]
     },
     "execution_count": 8,
     "metadata": {},
     "output_type": "execute_result"
    }
   ],
   "source": [
    "arr=np.arange(1,9)\n",
    "arr"
   ]
  },
  {
   "cell_type": "markdown",
   "metadata": {},
   "source": [
    "###### Reshape: Memberikan bentuk baru ke NumPy Array tanpa mengubah data"
   ]
  },
  {
   "cell_type": "code",
   "execution_count": 9,
   "metadata": {},
   "outputs": [
    {
     "data": {
      "text/plain": [
       "array([[1, 2, 3, 4],\n",
       "       [5, 6, 7, 8]])"
      ]
     },
     "execution_count": 9,
     "metadata": {},
     "output_type": "execute_result"
    }
   ],
   "source": [
    "arr2=arr.reshape(2,4)\n",
    "arr2"
   ]
  },
  {
   "cell_type": "markdown",
   "metadata": {},
   "source": [
    "###### Flatten: Menampilkan array sebagai Single Dimension Array (1-D)"
   ]
  },
  {
   "cell_type": "code",
   "execution_count": 10,
   "metadata": {},
   "outputs": [
    {
     "data": {
      "text/plain": [
       "array([1, 2, 3, 4, 5, 6, 7, 8])"
      ]
     },
     "execution_count": 10,
     "metadata": {},
     "output_type": "execute_result"
    }
   ],
   "source": [
    "arr3=arr2.flatten()\n",
    "arr3"
   ]
  },
  {
   "cell_type": "markdown",
   "metadata": {},
   "source": [
    "###### Transpose: transpose"
   ]
  },
  {
   "cell_type": "code",
   "execution_count": 11,
   "metadata": {},
   "outputs": [
    {
     "data": {
      "text/plain": [
       "array([[1, 5],\n",
       "       [2, 6],\n",
       "       [3, 7],\n",
       "       [4, 8]])"
      ]
     },
     "execution_count": 11,
     "metadata": {},
     "output_type": "execute_result"
    }
   ],
   "source": [
    "arr2.transpose()"
   ]
  },
  {
   "cell_type": "markdown",
   "metadata": {},
   "source": [
    "###### Concatenate: Menggabungkan dua atau lebih NumPy array dengan bentuk yang sama sepanjang axis yang sudah ada"
   ]
  },
  {
   "cell_type": "code",
   "execution_count": 12,
   "metadata": {},
   "outputs": [
    {
     "name": "stdout",
     "output_type": "stream",
     "text": [
      "Array 1:\n",
      " [[1 2 3]\n",
      " [4 5 6]\n",
      " [7 8 9]]\n",
      "\n",
      " Array 2:\n",
      " [[20 21 22]\n",
      " [23 24 25]\n",
      " [26 27 28]]\n"
     ]
    }
   ],
   "source": [
    "arr1=np.array([[1,2,3],[4,5,6],[7,8,9]])\n",
    "arr2=np.array([[20,21,22],[23,24,25],[26,27,28]])\n",
    "print(f'Array 1:\\n {arr1}\\n\\n Array 2:\\n {arr2}')"
   ]
  },
  {
   "cell_type": "code",
   "execution_count": 13,
   "metadata": {},
   "outputs": [
    {
     "data": {
      "text/plain": [
       "array([[ 1,  2,  3],\n",
       "       [ 4,  5,  6],\n",
       "       [ 7,  8,  9],\n",
       "       [20, 21, 22],\n",
       "       [23, 24, 25],\n",
       "       [26, 27, 28]])"
      ]
     },
     "execution_count": 13,
     "metadata": {},
     "output_type": "execute_result"
    }
   ],
   "source": [
    "np.concatenate([arr1,arr2],axis=0)"
   ]
  },
  {
   "cell_type": "code",
   "execution_count": 14,
   "metadata": {},
   "outputs": [
    {
     "data": {
      "text/plain": [
       "array([[ 1,  2,  3, 20, 21, 22],\n",
       "       [ 4,  5,  6, 23, 24, 25],\n",
       "       [ 7,  8,  9, 26, 27, 28]])"
      ]
     },
     "execution_count": 14,
     "metadata": {},
     "output_type": "execute_result"
    }
   ],
   "source": [
    "np.concatenate([arr1,arr2],axis=1)"
   ]
  },
  {
   "cell_type": "markdown",
   "metadata": {},
   "source": [
    "###### Stack: Menggabungkan sequence NumPy array di sepanjang axis yang baru"
   ]
  },
  {
   "cell_type": "code",
   "execution_count": 15,
   "metadata": {},
   "outputs": [
    {
     "data": {
      "text/plain": [
       "array([[[ 1,  2,  3],\n",
       "        [ 4,  5,  6],\n",
       "        [ 7,  8,  9]],\n",
       "\n",
       "       [[20, 21, 22],\n",
       "        [23, 24, 25],\n",
       "        [26, 27, 28]]])"
      ]
     },
     "execution_count": 15,
     "metadata": {},
     "output_type": "execute_result"
    }
   ],
   "source": [
    "np.stack([arr1,arr2],axis=0)"
   ]
  },
  {
   "cell_type": "code",
   "execution_count": 16,
   "metadata": {},
   "outputs": [
    {
     "data": {
      "text/plain": [
       "array([[[ 1,  2,  3],\n",
       "        [20, 21, 22]],\n",
       "\n",
       "       [[ 4,  5,  6],\n",
       "        [23, 24, 25]],\n",
       "\n",
       "       [[ 7,  8,  9],\n",
       "        [26, 27, 28]]])"
      ]
     },
     "execution_count": 16,
     "metadata": {},
     "output_type": "execute_result"
    }
   ],
   "source": [
    "np.stack([arr1,arr2],axis=1)"
   ]
  },
  {
   "cell_type": "markdown",
   "metadata": {},
   "source": [
    "###### Split: membagi 1-D NumPy array menjadi sejumlah subarray"
   ]
  },
  {
   "cell_type": "code",
   "execution_count": 17,
   "metadata": {},
   "outputs": [
    {
     "data": {
      "text/plain": [
       "array([0, 1, 2, 3, 4, 5, 6, 7, 8])"
      ]
     },
     "execution_count": 17,
     "metadata": {},
     "output_type": "execute_result"
    }
   ],
   "source": [
    "arr=np.arange(9)\n",
    "arr"
   ]
  },
  {
   "cell_type": "code",
   "execution_count": 18,
   "metadata": {},
   "outputs": [
    {
     "data": {
      "text/plain": [
       "[array([0, 1, 2]), array([3, 4, 5]), array([6, 7, 8])]"
      ]
     },
     "execution_count": 18,
     "metadata": {},
     "output_type": "execute_result"
    }
   ],
   "source": [
    "np.split(arr,3)"
   ]
  },
  {
   "cell_type": "markdown",
   "metadata": {},
   "source": [
    "###### Resize: mengubah NumPy array dengan ukuran yang ditentukan. Note: Jika ukuran baru lebih besar dari ukuran asli maka array akan diisi dengan salinan nilai-nilai sebelumnya"
   ]
  },
  {
   "cell_type": "code",
   "execution_count": 19,
   "metadata": {},
   "outputs": [
    {
     "data": {
      "text/plain": [
       "array([[1, 2, 3],\n",
       "       [4, 5, 6]])"
      ]
     },
     "execution_count": 19,
     "metadata": {},
     "output_type": "execute_result"
    }
   ],
   "source": [
    "arr=np.array([[1,2,3],[4,5,6]])\n",
    "arr"
   ]
  },
  {
   "cell_type": "code",
   "execution_count": 20,
   "metadata": {},
   "outputs": [
    {
     "data": {
      "text/plain": [
       "array([[1, 2, 3],\n",
       "       [4, 5, 6],\n",
       "       [1, 2, 3]])"
      ]
     },
     "execution_count": 20,
     "metadata": {},
     "output_type": "execute_result"
    }
   ],
   "source": [
    "np.resize(arr,(3,3))"
   ]
  },
  {
   "cell_type": "code",
   "execution_count": 21,
   "metadata": {},
   "outputs": [
    {
     "data": {
      "text/plain": [
       "array([[1, 2, 3],\n",
       "       [4, 5, 6]])"
      ]
     },
     "execution_count": 21,
     "metadata": {},
     "output_type": "execute_result"
    }
   ],
   "source": [
    "arr"
   ]
  },
  {
   "cell_type": "markdown",
   "metadata": {},
   "source": [
    "###### Append: Menambahkan nilai/value di akhir NumPy Array"
   ]
  },
  {
   "cell_type": "code",
   "execution_count": 22,
   "metadata": {},
   "outputs": [
    {
     "data": {
      "text/plain": [
       "array([[1, 2, 3],\n",
       "       [4, 5, 6],\n",
       "       [7, 8, 9]])"
      ]
     },
     "execution_count": 22,
     "metadata": {},
     "output_type": "execute_result"
    }
   ],
   "source": [
    "np.append(arr,np.array([[7,8,9]]),axis=0)"
   ]
  },
  {
   "cell_type": "markdown",
   "metadata": {},
   "source": [
    "###### Insert: Menyisipkan nilai/value dalam NumPy array dengan input di sepanjang axis yang diberikan dan sebelum indeks yang diberikan"
   ]
  },
  {
   "cell_type": "code",
   "execution_count": 23,
   "metadata": {},
   "outputs": [
    {
     "data": {
      "text/plain": [
       "array([[ 1,  2],\n",
       "       [ 3,  4],\n",
       "       [11, 12],\n",
       "       [ 5,  6]])"
      ]
     },
     "execution_count": 23,
     "metadata": {},
     "output_type": "execute_result"
    }
   ],
   "source": [
    "arr=np.array([[1,2],[3,4],[5,6]])\n",
    "arr=np.insert(arr,2,np.array([[11,12]]),axis=0)\n",
    "arr"
   ]
  },
  {
   "cell_type": "markdown",
   "metadata": {},
   "source": [
    "###### Delete: Menghapus nilai/value dalam NumPy array input di sepanjang axis yang diberikan dan sebelum indeks yang diberikan"
   ]
  },
  {
   "cell_type": "code",
   "execution_count": 24,
   "metadata": {},
   "outputs": [
    {
     "data": {
      "text/plain": [
       "array([[1, 2, 3, 4],\n",
       "       [5, 6, 7, 8]])"
      ]
     },
     "execution_count": 24,
     "metadata": {},
     "output_type": "execute_result"
    }
   ],
   "source": [
    "arr=np.arange(1,9).reshape(2,4)\n",
    "arr"
   ]
  },
  {
   "cell_type": "code",
   "execution_count": 25,
   "metadata": {},
   "outputs": [
    {
     "data": {
      "text/plain": [
       "array([[5, 6, 7, 8]])"
      ]
     },
     "execution_count": 25,
     "metadata": {},
     "output_type": "execute_result"
    }
   ],
   "source": [
    "np.delete(arr,0,axis=0)"
   ]
  },
  {
   "cell_type": "markdown",
   "metadata": {},
   "source": [
    "###### Unique: Mencari elemen unik"
   ]
  },
  {
   "cell_type": "code",
   "execution_count": 26,
   "metadata": {},
   "outputs": [
    {
     "data": {
      "text/plain": [
       "array([5, 2, 6, 2, 7, 5, 6, 8, 2, 4, 9, 2, 2])"
      ]
     },
     "execution_count": 26,
     "metadata": {},
     "output_type": "execute_result"
    }
   ],
   "source": [
    "arr=np.array([5,2,6,2,7,5,6,8,2,4,9,2,2])\n",
    "arr"
   ]
  },
  {
   "cell_type": "code",
   "execution_count": 27,
   "metadata": {},
   "outputs": [
    {
     "data": {
      "text/plain": [
       "array([2, 4, 5, 6, 7, 8, 9])"
      ]
     },
     "execution_count": 27,
     "metadata": {},
     "output_type": "execute_result"
    }
   ],
   "source": [
    "np.unique(arr)"
   ]
  },
  {
   "cell_type": "markdown",
   "metadata": {},
   "source": [
    "###### Slicing: Mengambil elemen dari satu indeks yang diberikan ke indeks lain."
   ]
  },
  {
   "cell_type": "code",
   "execution_count": 28,
   "metadata": {},
   "outputs": [
    {
     "data": {
      "text/plain": [
       "array([0, 1, 2, 3, 4, 5, 6, 7, 8, 9])"
      ]
     },
     "execution_count": 28,
     "metadata": {},
     "output_type": "execute_result"
    }
   ],
   "source": [
    "arr=np.arange(10)\n",
    "arr"
   ]
  },
  {
   "cell_type": "code",
   "execution_count": 29,
   "metadata": {},
   "outputs": [
    {
     "data": {
      "text/plain": [
       "array([2, 4, 6])"
      ]
     },
     "execution_count": 29,
     "metadata": {},
     "output_type": "execute_result"
    }
   ],
   "source": [
    "arr[2:7:2]"
   ]
  },
  {
   "cell_type": "markdown",
   "metadata": {},
   "source": [
    "##### Fungsi Statistika Dasar"
   ]
  },
  {
   "cell_type": "code",
   "execution_count": 30,
   "metadata": {},
   "outputs": [
    {
     "data": {
      "text/plain": [
       "np.float64(2.5)"
      ]
     },
     "execution_count": 30,
     "metadata": {},
     "output_type": "execute_result"
    }
   ],
   "source": [
    "a=np.array([[1,2],[3,4]])\n",
    "o1=np.mean(a)\n",
    "o1"
   ]
  },
  {
   "cell_type": "code",
   "execution_count": 31,
   "metadata": {},
   "outputs": [
    {
     "data": {
      "text/plain": [
       "array([2., 3.])"
      ]
     },
     "execution_count": 31,
     "metadata": {},
     "output_type": "execute_result"
    }
   ],
   "source": [
    "o2=np.mean(a,axis=0)\n",
    "o2"
   ]
  },
  {
   "cell_type": "code",
   "execution_count": 32,
   "metadata": {},
   "outputs": [
    {
     "data": {
      "text/plain": [
       "array([1.5, 3.5])"
      ]
     },
     "execution_count": 32,
     "metadata": {},
     "output_type": "execute_result"
    }
   ],
   "source": [
    "o3=np.mean(a,axis=1)\n",
    "o3"
   ]
  },
  {
   "cell_type": "code",
   "execution_count": 33,
   "metadata": {},
   "outputs": [
    {
     "data": {
      "text/plain": [
       "array([1, 2, 3, 4, 5, 6, 7, 8])"
      ]
     },
     "execution_count": 33,
     "metadata": {},
     "output_type": "execute_result"
    }
   ],
   "source": [
    "b=np.arange(1,9)\n",
    "b"
   ]
  },
  {
   "cell_type": "code",
   "execution_count": 34,
   "metadata": {},
   "outputs": [
    {
     "data": {
      "text/plain": [
       "np.float64(4.5)"
      ]
     },
     "execution_count": 34,
     "metadata": {},
     "output_type": "execute_result"
    }
   ],
   "source": [
    "np.median(b)"
   ]
  },
  {
   "cell_type": "code",
   "execution_count": 35,
   "metadata": {},
   "outputs": [],
   "source": [
    "c=np.array([1,2,2,5,4,2,5,6,7])"
   ]
  },
  {
   "cell_type": "code",
   "execution_count": 37,
   "metadata": {},
   "outputs": [
    {
     "data": {
      "text/plain": [
       "ModeResult(mode=np.int64(2), count=np.int64(3))"
      ]
     },
     "execution_count": 37,
     "metadata": {},
     "output_type": "execute_result"
    }
   ],
   "source": [
    "from scipy import stats\n",
    "stats.mode(c)"
   ]
  },
  {
   "cell_type": "code",
   "execution_count": 38,
   "metadata": {},
   "outputs": [
    {
     "data": {
      "text/plain": [
       "np.int64(7)"
      ]
     },
     "execution_count": 38,
     "metadata": {},
     "output_type": "execute_result"
    }
   ],
   "source": [
    "np.max(c)"
   ]
  },
  {
   "cell_type": "code",
   "execution_count": 39,
   "metadata": {},
   "outputs": [
    {
     "data": {
      "text/plain": [
       "np.int64(1)"
      ]
     },
     "execution_count": 39,
     "metadata": {},
     "output_type": "execute_result"
    }
   ],
   "source": [
    "np.min(c)"
   ]
  },
  {
   "cell_type": "markdown",
   "metadata": {},
   "source": [
    "#### Pandas"
   ]
  },
  {
   "cell_type": "markdown",
   "metadata": {},
   "source": [
    "###### Pandas merupakan sebuah library open-source Python berlisensi BSD (Berkeley Software Distribution) yang mendukung struktur dan analisis data yang mudah digunakan serta berkinerja tinggi."
   ]
  },
  {
   "cell_type": "code",
   "execution_count": 40,
   "metadata": {},
   "outputs": [],
   "source": [
    "import pandas as pd"
   ]
  },
  {
   "cell_type": "markdown",
   "metadata": {},
   "source": [
    "##### Series"
   ]
  },
  {
   "cell_type": "code",
   "execution_count": 41,
   "metadata": {},
   "outputs": [
    {
     "data": {
      "text/plain": [
       "0    2\n",
       "1    3\n",
       "2    5\n",
       "dtype: int64"
      ]
     },
     "execution_count": 41,
     "metadata": {},
     "output_type": "execute_result"
    }
   ],
   "source": [
    "data=pd.Series([2,3,5])\n",
    "data"
   ]
  },
  {
   "cell_type": "markdown",
   "metadata": {},
   "source": [
    "###### Membuat Series dari data berupa NumPy Array"
   ]
  },
  {
   "cell_type": "code",
   "execution_count": 42,
   "metadata": {},
   "outputs": [
    {
     "data": {
      "text/plain": [
       "0    2\n",
       "1    3\n",
       "2    5\n",
       "dtype: int64"
      ]
     },
     "execution_count": 42,
     "metadata": {},
     "output_type": "execute_result"
    }
   ],
   "source": [
    "array=np.array([2,3,5])\n",
    "data=pd.Series(array)\n",
    "data"
   ]
  },
  {
   "cell_type": "markdown",
   "metadata": {},
   "source": [
    "###### Modifikasi Indeks"
   ]
  },
  {
   "cell_type": "code",
   "execution_count": 43,
   "metadata": {},
   "outputs": [
    {
     "data": {
      "text/plain": [
       "a    Berwyn\n",
       "b      1129\n",
       "c      True\n",
       "dtype: object"
      ]
     },
     "execution_count": 43,
     "metadata": {},
     "output_type": "execute_result"
    }
   ],
   "source": [
    "data=pd.Series(['Berwyn',1129,True],index=['a','b','c'])\n",
    "data"
   ]
  },
  {
   "cell_type": "code",
   "execution_count": 44,
   "metadata": {},
   "outputs": [
    {
     "data": {
      "text/plain": [
       "'Berwyn'"
      ]
     },
     "execution_count": 44,
     "metadata": {},
     "output_type": "execute_result"
    }
   ],
   "source": [
    "data['a']"
   ]
  },
  {
   "cell_type": "code",
   "execution_count": 45,
   "metadata": {},
   "outputs": [
    {
     "data": {
      "text/plain": [
       "np.int64(5)"
      ]
     },
     "execution_count": 45,
     "metadata": {},
     "output_type": "execute_result"
    }
   ],
   "source": [
    "data=pd.Series([2,3,5])\n",
    "data[2]"
   ]
  },
  {
   "cell_type": "markdown",
   "metadata": {},
   "source": [
    "##### Data Frame"
   ]
  },
  {
   "cell_type": "markdown",
   "metadata": {},
   "source": [
    "###### DataFrame dengan tipe data Dictionary"
   ]
  },
  {
   "cell_type": "code",
   "execution_count": 46,
   "metadata": {},
   "outputs": [
    {
     "data": {
      "text/html": [
       "<div>\n",
       "<style scoped>\n",
       "    .dataframe tbody tr th:only-of-type {\n",
       "        vertical-align: middle;\n",
       "    }\n",
       "\n",
       "    .dataframe tbody tr th {\n",
       "        vertical-align: top;\n",
       "    }\n",
       "\n",
       "    .dataframe thead th {\n",
       "        text-align: right;\n",
       "    }\n",
       "</style>\n",
       "<table border=\"1\" class=\"dataframe\">\n",
       "  <thead>\n",
       "    <tr style=\"text-align: right;\">\n",
       "      <th></th>\n",
       "      <th>calories</th>\n",
       "      <th>duration</th>\n",
       "    </tr>\n",
       "  </thead>\n",
       "  <tbody>\n",
       "    <tr>\n",
       "      <th>0</th>\n",
       "      <td>420</td>\n",
       "      <td>50</td>\n",
       "    </tr>\n",
       "    <tr>\n",
       "      <th>1</th>\n",
       "      <td>380</td>\n",
       "      <td>40</td>\n",
       "    </tr>\n",
       "    <tr>\n",
       "      <th>2</th>\n",
       "      <td>390</td>\n",
       "      <td>45</td>\n",
       "    </tr>\n",
       "  </tbody>\n",
       "</table>\n",
       "</div>"
      ],
      "text/plain": [
       "   calories  duration\n",
       "0       420        50\n",
       "1       380        40\n",
       "2       390        45"
      ]
     },
     "execution_count": 46,
     "metadata": {},
     "output_type": "execute_result"
    }
   ],
   "source": [
    "data={\n",
    "    'calories': [420, 380, 390],\n",
    "    'duration': [50, 40, 45]\n",
    "}\n",
    "\n",
    "df=pd.DataFrame(data)\n",
    "df"
   ]
  },
  {
   "cell_type": "markdown",
   "metadata": {},
   "source": [
    "###### DataFrame dengan tipe data berupa List"
   ]
  },
  {
   "cell_type": "code",
   "execution_count": 47,
   "metadata": {},
   "outputs": [
    {
     "data": {
      "text/html": [
       "<div>\n",
       "<style scoped>\n",
       "    .dataframe tbody tr th:only-of-type {\n",
       "        vertical-align: middle;\n",
       "    }\n",
       "\n",
       "    .dataframe tbody tr th {\n",
       "        vertical-align: top;\n",
       "    }\n",
       "\n",
       "    .dataframe thead th {\n",
       "        text-align: right;\n",
       "    }\n",
       "</style>\n",
       "<table border=\"1\" class=\"dataframe\">\n",
       "  <thead>\n",
       "    <tr style=\"text-align: right;\">\n",
       "      <th></th>\n",
       "      <th>calories</th>\n",
       "      <th>duration</th>\n",
       "    </tr>\n",
       "  </thead>\n",
       "  <tbody>\n",
       "    <tr>\n",
       "      <th>0</th>\n",
       "      <td>420</td>\n",
       "      <td>50</td>\n",
       "    </tr>\n",
       "    <tr>\n",
       "      <th>1</th>\n",
       "      <td>380</td>\n",
       "      <td>40</td>\n",
       "    </tr>\n",
       "    <tr>\n",
       "      <th>2</th>\n",
       "      <td>390</td>\n",
       "      <td>45</td>\n",
       "    </tr>\n",
       "  </tbody>\n",
       "</table>\n",
       "</div>"
      ],
      "text/plain": [
       "   calories  duration\n",
       "0       420        50\n",
       "1       380        40\n",
       "2       390        45"
      ]
     },
     "execution_count": 47,
     "metadata": {},
     "output_type": "execute_result"
    }
   ],
   "source": [
    "data=[[420, 50],\n",
    "      [380, 40],\n",
    "      [390, 45]]\n",
    "\n",
    "df=pd.DataFrame(data, columns=['calories', 'duration'])\n",
    "df"
   ]
  },
  {
   "cell_type": "markdown",
   "metadata": {},
   "source": [
    "##### Read File"
   ]
  },
  {
   "cell_type": "code",
   "execution_count": 48,
   "metadata": {},
   "outputs": [
    {
     "data": {
      "text/html": [
       "<div>\n",
       "<style scoped>\n",
       "    .dataframe tbody tr th:only-of-type {\n",
       "        vertical-align: middle;\n",
       "    }\n",
       "\n",
       "    .dataframe tbody tr th {\n",
       "        vertical-align: top;\n",
       "    }\n",
       "\n",
       "    .dataframe thead th {\n",
       "        text-align: right;\n",
       "    }\n",
       "</style>\n",
       "<table border=\"1\" class=\"dataframe\">\n",
       "  <thead>\n",
       "    <tr style=\"text-align: right;\">\n",
       "      <th></th>\n",
       "      <th>Unnamed: 0</th>\n",
       "      <th>Unnamed: 1</th>\n",
       "      <th>Unnamed: 2</th>\n",
       "      <th>Unnamed: 3</th>\n",
       "      <th>Unnamed: 4</th>\n",
       "      <th>Unnamed: 5</th>\n",
       "      <th>Unnamed: 6</th>\n",
       "      <th>Unnamed: 7</th>\n",
       "      <th>Unnamed: 8</th>\n",
       "      <th>Unnamed: 9</th>\n",
       "      <th>Unnamed: 10</th>\n",
       "      <th>Unnamed: 11</th>\n",
       "    </tr>\n",
       "  </thead>\n",
       "  <tbody>\n",
       "    <tr>\n",
       "      <th>0</th>\n",
       "      <td>NaN</td>\n",
       "      <td>Paid Date</td>\n",
       "      <td>Order Number</td>\n",
       "      <td>First Name</td>\n",
       "      <td>Last Name</td>\n",
       "      <td>Meta Category</td>\n",
       "      <td>Product Name</td>\n",
       "      <td>Transaction Amount</td>\n",
       "      <td>Seller Discount</td>\n",
       "      <td>Sales Discount</td>\n",
       "      <td>Delivery Fee</td>\n",
       "      <td>Other Discount</td>\n",
       "    </tr>\n",
       "    <tr>\n",
       "      <th>1</th>\n",
       "      <td>NaN</td>\n",
       "      <td>20170724</td>\n",
       "      <td>201707240088517</td>\n",
       "      <td>elvride</td>\n",
       "      <td>aries</td>\n",
       "      <td>Babies/ Kids</td>\n",
       "      <td>Pineapple Hat Anak Ala Korea - 6M - 4Y - Unise...</td>\n",
       "      <td>300000</td>\n",
       "      <td>153000</td>\n",
       "      <td>10200</td>\n",
       "      <td>9000</td>\n",
       "      <td>0</td>\n",
       "    </tr>\n",
       "    <tr>\n",
       "      <th>2</th>\n",
       "      <td>NaN</td>\n",
       "      <td>20170701</td>\n",
       "      <td>201707018889790</td>\n",
       "      <td>BASIR</td>\n",
       "      <td>Ninuk</td>\n",
       "      <td>Service/ Mokado</td>\n",
       "      <td>Pulsa BOLT 150.000</td>\n",
       "      <td>287800</td>\n",
       "      <td>68000</td>\n",
       "      <td>0</td>\n",
       "      <td>0</td>\n",
       "      <td>0</td>\n",
       "    </tr>\n",
       "    <tr>\n",
       "      <th>3</th>\n",
       "      <td>NaN</td>\n",
       "      <td>20170707</td>\n",
       "      <td>201707079264675</td>\n",
       "      <td>Citra</td>\n",
       "      <td>Ardi</td>\n",
       "      <td>Service/ Mokado</td>\n",
       "      <td>XTRA Combo 12X 6GB, 12bln</td>\n",
       "      <td>35000</td>\n",
       "      <td>0</td>\n",
       "      <td>700</td>\n",
       "      <td>0</td>\n",
       "      <td>0</td>\n",
       "    </tr>\n",
       "    <tr>\n",
       "      <th>4</th>\n",
       "      <td>NaN</td>\n",
       "      <td>20170720</td>\n",
       "      <td>201707209945714</td>\n",
       "      <td>Dian</td>\n",
       "      <td>Renaldi</td>\n",
       "      <td>Fashion</td>\n",
       "      <td>Square Foldable Travel Bag / Tas Koper Luggage...</td>\n",
       "      <td>85000</td>\n",
       "      <td>0</td>\n",
       "      <td>5900</td>\n",
       "      <td>0</td>\n",
       "      <td>0</td>\n",
       "    </tr>\n",
       "    <tr>\n",
       "      <th>...</th>\n",
       "      <td>...</td>\n",
       "      <td>...</td>\n",
       "      <td>...</td>\n",
       "      <td>...</td>\n",
       "      <td>...</td>\n",
       "      <td>...</td>\n",
       "      <td>...</td>\n",
       "      <td>...</td>\n",
       "      <td>...</td>\n",
       "      <td>...</td>\n",
       "      <td>...</td>\n",
       "      <td>...</td>\n",
       "    </tr>\n",
       "    <tr>\n",
       "      <th>11996</th>\n",
       "      <td>NaN</td>\n",
       "      <td>20171201</td>\n",
       "      <td>201712012704898</td>\n",
       "      <td>Fitrah</td>\n",
       "      <td>gina</td>\n",
       "      <td>Service/ Mokado</td>\n",
       "      <td>Xtra Combo 12GB, 30hr</td>\n",
       "      <td>333000</td>\n",
       "      <td>300000</td>\n",
       "      <td>2300</td>\n",
       "      <td>0</td>\n",
       "      <td>0</td>\n",
       "    </tr>\n",
       "    <tr>\n",
       "      <th>11997</th>\n",
       "      <td>NaN</td>\n",
       "      <td>20171203</td>\n",
       "      <td>201712032723513</td>\n",
       "      <td>Djebeng</td>\n",
       "      <td>Shinta</td>\n",
       "      <td>Service/ Mokado</td>\n",
       "      <td>Xtra Combo 12GB, 30hr</td>\n",
       "      <td>280000</td>\n",
       "      <td>222500</td>\n",
       "      <td>0</td>\n",
       "      <td>0</td>\n",
       "      <td>0</td>\n",
       "    </tr>\n",
       "    <tr>\n",
       "      <th>11998</th>\n",
       "      <td>NaN</td>\n",
       "      <td>20171204</td>\n",
       "      <td>201712042740205</td>\n",
       "      <td>Amik</td>\n",
       "      <td>Elan</td>\n",
       "      <td>Home/ Food</td>\n",
       "      <td>Kreta - Kripik Tempe Indonesia - Rasa Jomblo d...</td>\n",
       "      <td>150000</td>\n",
       "      <td>81000</td>\n",
       "      <td>4800</td>\n",
       "      <td>0</td>\n",
       "      <td>0</td>\n",
       "    </tr>\n",
       "    <tr>\n",
       "      <th>11999</th>\n",
       "      <td>NaN</td>\n",
       "      <td>20171207</td>\n",
       "      <td>201712072778621</td>\n",
       "      <td>Anna</td>\n",
       "      <td>asih</td>\n",
       "      <td>Gadget/ Komputer</td>\n",
       "      <td>Samsung Galaxy J5 Pro Garansi Resmi Special Price</td>\n",
       "      <td>475000</td>\n",
       "      <td>400000</td>\n",
       "      <td>0</td>\n",
       "      <td>0</td>\n",
       "      <td>0</td>\n",
       "    </tr>\n",
       "    <tr>\n",
       "      <th>12000</th>\n",
       "      <td>NaN</td>\n",
       "      <td>20171205</td>\n",
       "      <td>201712052746101</td>\n",
       "      <td>nidyah</td>\n",
       "      <td>ayi</td>\n",
       "      <td>Service/ Mokado</td>\n",
       "      <td>[SERBU 11.12] Share Tea Cocoa Rocksalt &amp; Chees...</td>\n",
       "      <td>475000</td>\n",
       "      <td>400000</td>\n",
       "      <td>20000</td>\n",
       "      <td>17000</td>\n",
       "      <td>0</td>\n",
       "    </tr>\n",
       "  </tbody>\n",
       "</table>\n",
       "<p>12001 rows × 12 columns</p>\n",
       "</div>"
      ],
      "text/plain": [
       "       Unnamed: 0 Unnamed: 1       Unnamed: 2  Unnamed: 3 Unnamed: 4  \\\n",
       "0             NaN  Paid Date     Order Number  First Name  Last Name   \n",
       "1             NaN   20170724  201707240088517     elvride      aries   \n",
       "2             NaN   20170701  201707018889790       BASIR      Ninuk   \n",
       "3             NaN   20170707  201707079264675       Citra       Ardi   \n",
       "4             NaN   20170720  201707209945714        Dian    Renaldi   \n",
       "...           ...        ...              ...         ...        ...   \n",
       "11996         NaN   20171201  201712012704898      Fitrah       gina   \n",
       "11997         NaN   20171203  201712032723513     Djebeng     Shinta   \n",
       "11998         NaN   20171204  201712042740205        Amik       Elan   \n",
       "11999         NaN   20171207  201712072778621        Anna       asih   \n",
       "12000         NaN   20171205  201712052746101      nidyah        ayi   \n",
       "\n",
       "             Unnamed: 5                                         Unnamed: 6  \\\n",
       "0         Meta Category                                       Product Name   \n",
       "1          Babies/ Kids  Pineapple Hat Anak Ala Korea - 6M - 4Y - Unise...   \n",
       "2       Service/ Mokado                                 Pulsa BOLT 150.000   \n",
       "3       Service/ Mokado                          XTRA Combo 12X 6GB, 12bln   \n",
       "4               Fashion  Square Foldable Travel Bag / Tas Koper Luggage...   \n",
       "...                 ...                                                ...   \n",
       "11996   Service/ Mokado                              Xtra Combo 12GB, 30hr   \n",
       "11997   Service/ Mokado                              Xtra Combo 12GB, 30hr   \n",
       "11998        Home/ Food  Kreta - Kripik Tempe Indonesia - Rasa Jomblo d...   \n",
       "11999  Gadget/ Komputer  Samsung Galaxy J5 Pro Garansi Resmi Special Price   \n",
       "12000   Service/ Mokado  [SERBU 11.12] Share Tea Cocoa Rocksalt & Chees...   \n",
       "\n",
       "               Unnamed: 7       Unnamed: 8      Unnamed: 9   Unnamed: 10  \\\n",
       "0      Transaction Amount  Seller Discount  Sales Discount  Delivery Fee   \n",
       "1                  300000           153000           10200          9000   \n",
       "2                  287800            68000               0             0   \n",
       "3                   35000                0             700             0   \n",
       "4                   85000                0            5900             0   \n",
       "...                   ...              ...             ...           ...   \n",
       "11996              333000           300000            2300             0   \n",
       "11997              280000           222500               0             0   \n",
       "11998              150000            81000            4800             0   \n",
       "11999              475000           400000               0             0   \n",
       "12000              475000           400000           20000         17000   \n",
       "\n",
       "          Unnamed: 11  \n",
       "0      Other Discount  \n",
       "1                   0  \n",
       "2                   0  \n",
       "3                   0  \n",
       "4                   0  \n",
       "...               ...  \n",
       "11996               0  \n",
       "11997               0  \n",
       "11998               0  \n",
       "11999               0  \n",
       "12000               0  \n",
       "\n",
       "[12001 rows x 12 columns]"
      ]
     },
     "execution_count": 48,
     "metadata": {},
     "output_type": "execute_result"
    }
   ],
   "source": [
    "df_1=pd.read_excel('Data/sales_dataset.xlsx')\n",
    "df_1"
   ]
  },
  {
   "cell_type": "code",
   "execution_count": 69,
   "metadata": {},
   "outputs": [
    {
     "data": {
      "text/html": [
       "<div>\n",
       "<style scoped>\n",
       "    .dataframe tbody tr th:only-of-type {\n",
       "        vertical-align: middle;\n",
       "    }\n",
       "\n",
       "    .dataframe tbody tr th {\n",
       "        vertical-align: top;\n",
       "    }\n",
       "\n",
       "    .dataframe thead th {\n",
       "        text-align: right;\n",
       "    }\n",
       "</style>\n",
       "<table border=\"1\" class=\"dataframe\">\n",
       "  <thead>\n",
       "    <tr style=\"text-align: right;\">\n",
       "      <th></th>\n",
       "      <th>Order ID</th>\n",
       "      <th>Order Date</th>\n",
       "      <th>Ship Date</th>\n",
       "      <th>Aging</th>\n",
       "      <th>Ship Mode</th>\n",
       "      <th>Product Category</th>\n",
       "      <th>Product</th>\n",
       "      <th>Sales</th>\n",
       "      <th>Quantity</th>\n",
       "      <th>Discount</th>\n",
       "      <th>...</th>\n",
       "      <th>Shipping Cost</th>\n",
       "      <th>Order Priority</th>\n",
       "      <th>Customer ID</th>\n",
       "      <th>Customer Name</th>\n",
       "      <th>Segment</th>\n",
       "      <th>City</th>\n",
       "      <th>State</th>\n",
       "      <th>Country</th>\n",
       "      <th>Region</th>\n",
       "      <th>Months</th>\n",
       "    </tr>\n",
       "  </thead>\n",
       "  <tbody>\n",
       "    <tr>\n",
       "      <th>0</th>\n",
       "      <td>AU-2015-1</td>\n",
       "      <td>2015-11-09</td>\n",
       "      <td>2015-11-17</td>\n",
       "      <td>8.0</td>\n",
       "      <td>First Class</td>\n",
       "      <td>Auto &amp; Accessories</td>\n",
       "      <td>Car Media Players</td>\n",
       "      <td>$140.00</td>\n",
       "      <td>2</td>\n",
       "      <td>0.05</td>\n",
       "      <td>...</td>\n",
       "      <td>$4.60</td>\n",
       "      <td>Medium</td>\n",
       "      <td>LS-001</td>\n",
       "      <td>Lane Daniels</td>\n",
       "      <td>Consumer</td>\n",
       "      <td>Brisbane</td>\n",
       "      <td>Queensland</td>\n",
       "      <td>Australia</td>\n",
       "      <td>Oceania</td>\n",
       "      <td>Nov</td>\n",
       "    </tr>\n",
       "    <tr>\n",
       "      <th>1</th>\n",
       "      <td>AU-2015-2</td>\n",
       "      <td>2015-06-30</td>\n",
       "      <td>2015-07-02</td>\n",
       "      <td>2.0</td>\n",
       "      <td>First Class</td>\n",
       "      <td>Auto &amp; Accessories</td>\n",
       "      <td>Car Speakers</td>\n",
       "      <td>$211.00</td>\n",
       "      <td>3</td>\n",
       "      <td>0.03</td>\n",
       "      <td>...</td>\n",
       "      <td>$11.20</td>\n",
       "      <td>Medium</td>\n",
       "      <td>IZ-002</td>\n",
       "      <td>Alvarado Kriz</td>\n",
       "      <td>Home Office</td>\n",
       "      <td>Berlin</td>\n",
       "      <td>Berlin</td>\n",
       "      <td>Germany</td>\n",
       "      <td>Central</td>\n",
       "      <td>Jun</td>\n",
       "    </tr>\n",
       "    <tr>\n",
       "      <th>2</th>\n",
       "      <td>AU-2015-3</td>\n",
       "      <td>2015-12-05</td>\n",
       "      <td>2015-12-13</td>\n",
       "      <td>8.0</td>\n",
       "      <td>First Class</td>\n",
       "      <td>Auto &amp; Accessories</td>\n",
       "      <td>Car Body Covers</td>\n",
       "      <td>$117.00</td>\n",
       "      <td>5</td>\n",
       "      <td>0.01</td>\n",
       "      <td>...</td>\n",
       "      <td>$3.10</td>\n",
       "      <td>Critical</td>\n",
       "      <td>EN-003</td>\n",
       "      <td>Moon Weien</td>\n",
       "      <td>Consumer</td>\n",
       "      <td>Porirua</td>\n",
       "      <td>Wellington</td>\n",
       "      <td>New Zealand</td>\n",
       "      <td>Oceania</td>\n",
       "      <td>Dec</td>\n",
       "    </tr>\n",
       "    <tr>\n",
       "      <th>3</th>\n",
       "      <td>AU-2015-4</td>\n",
       "      <td>2015-05-09</td>\n",
       "      <td>2015-05-16</td>\n",
       "      <td>7.0</td>\n",
       "      <td>First Class</td>\n",
       "      <td>Auto &amp; Accessories</td>\n",
       "      <td>Car &amp; Bike Care</td>\n",
       "      <td>$118.00</td>\n",
       "      <td>2</td>\n",
       "      <td>0.05</td>\n",
       "      <td>...</td>\n",
       "      <td>$2.60</td>\n",
       "      <td>High</td>\n",
       "      <td>AN-004</td>\n",
       "      <td>Sanchez Bergman</td>\n",
       "      <td>Corporate</td>\n",
       "      <td>Kabul</td>\n",
       "      <td>Kabul</td>\n",
       "      <td>Afghanistan</td>\n",
       "      <td>Central Asia</td>\n",
       "      <td>May</td>\n",
       "    </tr>\n",
       "    <tr>\n",
       "      <th>4</th>\n",
       "      <td>AU-2015-5</td>\n",
       "      <td>2015-07-09</td>\n",
       "      <td>2015-07-18</td>\n",
       "      <td>9.0</td>\n",
       "      <td>First Class</td>\n",
       "      <td>Auto &amp; Accessories</td>\n",
       "      <td>Tyre</td>\n",
       "      <td>$250.00</td>\n",
       "      <td>1</td>\n",
       "      <td>0.04</td>\n",
       "      <td>...</td>\n",
       "      <td>$16.00</td>\n",
       "      <td>Critical</td>\n",
       "      <td>ON-005</td>\n",
       "      <td>Rowe Jackson</td>\n",
       "      <td>Corporate</td>\n",
       "      <td>Townsville</td>\n",
       "      <td>Queensland</td>\n",
       "      <td>Australia</td>\n",
       "      <td>Oceania</td>\n",
       "      <td>Jul</td>\n",
       "    </tr>\n",
       "    <tr>\n",
       "      <th>...</th>\n",
       "      <td>...</td>\n",
       "      <td>...</td>\n",
       "      <td>...</td>\n",
       "      <td>...</td>\n",
       "      <td>...</td>\n",
       "      <td>...</td>\n",
       "      <td>...</td>\n",
       "      <td>...</td>\n",
       "      <td>...</td>\n",
       "      <td>...</td>\n",
       "      <td>...</td>\n",
       "      <td>...</td>\n",
       "      <td>...</td>\n",
       "      <td>...</td>\n",
       "      <td>...</td>\n",
       "      <td>...</td>\n",
       "      <td>...</td>\n",
       "      <td>...</td>\n",
       "      <td>...</td>\n",
       "      <td>...</td>\n",
       "      <td>...</td>\n",
       "    </tr>\n",
       "    <tr>\n",
       "      <th>51298</th>\n",
       "      <td>FA-2015-30775</td>\n",
       "      <td>2016-01-02</td>\n",
       "      <td>2016-01-06</td>\n",
       "      <td>5.0</td>\n",
       "      <td>Standard Class</td>\n",
       "      <td>Fashion</td>\n",
       "      <td>Sports Wear</td>\n",
       "      <td>$85.00</td>\n",
       "      <td>3</td>\n",
       "      <td>0.03</td>\n",
       "      <td>...</td>\n",
       "      <td>$2.80</td>\n",
       "      <td>Medium</td>\n",
       "      <td>RZ-0040981</td>\n",
       "      <td>Mcclure Schwarz</td>\n",
       "      <td>Home Office</td>\n",
       "      <td>Valinhos</td>\n",
       "      <td>São Paulo</td>\n",
       "      <td>Brazil</td>\n",
       "      <td>South</td>\n",
       "      <td>Jan</td>\n",
       "    </tr>\n",
       "    <tr>\n",
       "      <th>51299</th>\n",
       "      <td>FA-2015-30775</td>\n",
       "      <td>2016-01-02</td>\n",
       "      <td>2016-01-06</td>\n",
       "      <td>5.0</td>\n",
       "      <td>Standard Class</td>\n",
       "      <td>Fashion</td>\n",
       "      <td>Sports Wear</td>\n",
       "      <td>$85.00</td>\n",
       "      <td>3</td>\n",
       "      <td>0.03</td>\n",
       "      <td>...</td>\n",
       "      <td>$2.80</td>\n",
       "      <td>Medium</td>\n",
       "      <td>RZ-0040981</td>\n",
       "      <td>Mcclure Schwarz</td>\n",
       "      <td>Home Office</td>\n",
       "      <td>Valinhos</td>\n",
       "      <td>São Paulo</td>\n",
       "      <td>Brazil</td>\n",
       "      <td>South</td>\n",
       "      <td>Jan</td>\n",
       "    </tr>\n",
       "    <tr>\n",
       "      <th>51300</th>\n",
       "      <td>FA-2015-30775</td>\n",
       "      <td>2016-01-02</td>\n",
       "      <td>2016-01-06</td>\n",
       "      <td>5.0</td>\n",
       "      <td>Standard Class</td>\n",
       "      <td>Fashion</td>\n",
       "      <td>Sports Wear</td>\n",
       "      <td>$85.00</td>\n",
       "      <td>3</td>\n",
       "      <td>0.03</td>\n",
       "      <td>...</td>\n",
       "      <td>$2.80</td>\n",
       "      <td>Medium</td>\n",
       "      <td>RZ-0040981</td>\n",
       "      <td>Mcclure Schwarz</td>\n",
       "      <td>Home Office</td>\n",
       "      <td>Valinhos</td>\n",
       "      <td>São Paulo</td>\n",
       "      <td>Brazil</td>\n",
       "      <td>South</td>\n",
       "      <td>Jan</td>\n",
       "    </tr>\n",
       "    <tr>\n",
       "      <th>51301</th>\n",
       "      <td>FA-2015-30775</td>\n",
       "      <td>2016-01-02</td>\n",
       "      <td>2016-01-06</td>\n",
       "      <td>5.0</td>\n",
       "      <td>Standard Class</td>\n",
       "      <td>Fashion</td>\n",
       "      <td>Sports Wear</td>\n",
       "      <td>$85.00</td>\n",
       "      <td>3</td>\n",
       "      <td>0.03</td>\n",
       "      <td>...</td>\n",
       "      <td>$2.80</td>\n",
       "      <td>Medium</td>\n",
       "      <td>RZ-0040981</td>\n",
       "      <td>Mcclure Schwarz</td>\n",
       "      <td>Home Office</td>\n",
       "      <td>Valinhos</td>\n",
       "      <td>São Paulo</td>\n",
       "      <td>Brazil</td>\n",
       "      <td>South</td>\n",
       "      <td>Jan</td>\n",
       "    </tr>\n",
       "    <tr>\n",
       "      <th>51302</th>\n",
       "      <td>FA-2015-30775</td>\n",
       "      <td>2016-01-02</td>\n",
       "      <td>2016-01-06</td>\n",
       "      <td>5.0</td>\n",
       "      <td>Standard Class</td>\n",
       "      <td>Fashion</td>\n",
       "      <td>Sports Wear</td>\n",
       "      <td>$85.00</td>\n",
       "      <td>3</td>\n",
       "      <td>0.03</td>\n",
       "      <td>...</td>\n",
       "      <td>$2.80</td>\n",
       "      <td>Medium</td>\n",
       "      <td>RZ-0040981</td>\n",
       "      <td>Mcclure Schwarz</td>\n",
       "      <td>Home Office</td>\n",
       "      <td>Valinhos</td>\n",
       "      <td>São Paulo</td>\n",
       "      <td>Brazil</td>\n",
       "      <td>South</td>\n",
       "      <td>Jan</td>\n",
       "    </tr>\n",
       "  </tbody>\n",
       "</table>\n",
       "<p>51303 rows × 21 columns</p>\n",
       "</div>"
      ],
      "text/plain": [
       "            Order ID  Order Date   Ship Date  Aging       Ship Mode  \\\n",
       "0          AU-2015-1  2015-11-09  2015-11-17    8.0     First Class   \n",
       "1          AU-2015-2  2015-06-30  2015-07-02    2.0     First Class   \n",
       "2          AU-2015-3  2015-12-05  2015-12-13    8.0     First Class   \n",
       "3          AU-2015-4  2015-05-09  2015-05-16    7.0     First Class   \n",
       "4          AU-2015-5  2015-07-09  2015-07-18    9.0     First Class   \n",
       "...              ...         ...         ...    ...             ...   \n",
       "51298  FA-2015-30775  2016-01-02  2016-01-06    5.0  Standard Class   \n",
       "51299  FA-2015-30775  2016-01-02  2016-01-06    5.0  Standard Class   \n",
       "51300  FA-2015-30775  2016-01-02  2016-01-06    5.0  Standard Class   \n",
       "51301  FA-2015-30775  2016-01-02  2016-01-06    5.0  Standard Class   \n",
       "51302  FA-2015-30775  2016-01-02  2016-01-06    5.0  Standard Class   \n",
       "\n",
       "         Product Category            Product    Sales Quantity Discount  ...  \\\n",
       "0      Auto & Accessories  Car Media Players  $140.00        2     0.05  ...   \n",
       "1      Auto & Accessories       Car Speakers  $211.00        3     0.03  ...   \n",
       "2      Auto & Accessories    Car Body Covers  $117.00        5     0.01  ...   \n",
       "3      Auto & Accessories    Car & Bike Care  $118.00        2     0.05  ...   \n",
       "4      Auto & Accessories               Tyre  $250.00        1     0.04  ...   \n",
       "...                   ...                ...      ...      ...      ...  ...   \n",
       "51298             Fashion        Sports Wear   $85.00        3     0.03  ...   \n",
       "51299             Fashion        Sports Wear   $85.00        3     0.03  ...   \n",
       "51300             Fashion        Sports Wear   $85.00        3     0.03  ...   \n",
       "51301             Fashion        Sports Wear   $85.00        3     0.03  ...   \n",
       "51302             Fashion        Sports Wear   $85.00        3     0.03  ...   \n",
       "\n",
       "      Shipping Cost Order Priority Customer ID    Customer Name      Segment  \\\n",
       "0             $4.60         Medium      LS-001     Lane Daniels     Consumer   \n",
       "1            $11.20         Medium      IZ-002    Alvarado Kriz  Home Office   \n",
       "2             $3.10       Critical      EN-003       Moon Weien     Consumer   \n",
       "3             $2.60           High      AN-004  Sanchez Bergman    Corporate   \n",
       "4            $16.00       Critical      ON-005     Rowe Jackson    Corporate   \n",
       "...             ...            ...         ...              ...          ...   \n",
       "51298         $2.80         Medium  RZ-0040981  Mcclure Schwarz  Home Office   \n",
       "51299         $2.80         Medium  RZ-0040981  Mcclure Schwarz  Home Office   \n",
       "51300         $2.80         Medium  RZ-0040981  Mcclure Schwarz  Home Office   \n",
       "51301         $2.80         Medium  RZ-0040981  Mcclure Schwarz  Home Office   \n",
       "51302         $2.80         Medium  RZ-0040981  Mcclure Schwarz  Home Office   \n",
       "\n",
       "             City       State      Country        Region Months  \n",
       "0        Brisbane  Queensland    Australia       Oceania    Nov  \n",
       "1          Berlin      Berlin      Germany       Central    Jun  \n",
       "2         Porirua  Wellington  New Zealand       Oceania    Dec  \n",
       "3           Kabul       Kabul  Afghanistan  Central Asia    May  \n",
       "4      Townsville  Queensland    Australia       Oceania    Jul  \n",
       "...           ...         ...          ...           ...    ...  \n",
       "51298    Valinhos   São Paulo       Brazil         South    Jan  \n",
       "51299    Valinhos   São Paulo       Brazil         South    Jan  \n",
       "51300    Valinhos   São Paulo       Brazil         South    Jan  \n",
       "51301    Valinhos   São Paulo       Brazil         South    Jan  \n",
       "51302    Valinhos   São Paulo       Brazil         South    Jan  \n",
       "\n",
       "[51303 rows x 21 columns]"
      ]
     },
     "execution_count": 69,
     "metadata": {},
     "output_type": "execute_result"
    }
   ],
   "source": [
    "df_2=pd.read_csv('Data/ecommerce_dataset.csv')\n",
    "df_2"
   ]
  }
 ],
 "metadata": {
  "kernelspec": {
   "display_name": "Python 3",
   "language": "python",
   "name": "python3"
  },
  "language_info": {
   "codemirror_mode": {
    "name": "ipython",
    "version": 3
   },
   "file_extension": ".py",
   "mimetype": "text/x-python",
   "name": "python",
   "nbconvert_exporter": "python",
   "pygments_lexer": "ipython3",
   "version": "3.13.1"
  }
 },
 "nbformat": 4,
 "nbformat_minor": 2
}
